{
 "cells": [
  {
   "cell_type": "code",
   "execution_count": 11,
   "id": "de2d21db-0db9-4877-8ea8-c8f0cd1ef1e1",
   "metadata": {},
   "outputs": [
    {
     "name": "stdin",
     "output_type": "stream",
     "text": [
      "Enter number 27\n"
     ]
    },
    {
     "name": "stdout",
     "output_type": "stream",
     "text": [
      "The number is an odd number and greater than 20.\n"
     ]
    }
   ],
   "source": [
    "num=int(input('Enter number'))\n",
    "\n",
    "if num==20:\n",
    "    print('The number is an even number and equal 20.')\n",
    "    \n",
    "elif num>20:\n",
    "    \n",
    "    if num%2==0:\n",
    "        print('The number is an even number and greater than 20.')\n",
    "    else:\n",
    "        print('The number is an odd number and greater than 20.')\n",
    "        \n",
    "else:\n",
    "    \n",
    "    if num%2==0:\n",
    "        print('The number is an even number and less than 20.')\n",
    "    else:\n",
    "        print('The number is an odd number and less than 20.')"
   ]
  },
  {
   "cell_type": "code",
   "execution_count": 8,
   "id": "a6ff366e-b662-45f8-91f6-e5ed60ae1c34",
   "metadata": {},
   "outputs": [
    {
     "name": "stdin",
     "output_type": "stream",
     "text": [
      "Enter a 5 digit number:  24356\n"
     ]
    },
    {
     "name": "stdout",
     "output_type": "stream",
     "text": [
      "Sum of 5 digits: 20\n"
     ]
    }
   ],
   "source": [
    "num=int(input(\"Enter a 5 digit number: \"))\n",
    "\n",
    "if 10000<=num<=99999:\n",
    "    digit_sum=0\n",
    "    while num>0:\n",
    "        digit=num%10\n",
    "        digit_sum+=digit\n",
    "        num=num//10\n",
    "\n",
    "    print(\"Sum of 5 digits:\", digit_sum)\n",
    "else:\n",
    "    print(\"Invalid input. Please enter a valid five-digit number.\")"
   ]
  },
  {
   "cell_type": "code",
   "execution_count": 8,
   "id": "af71b790-c088-4c85-9a6a-4d33dffc98fe",
   "metadata": {},
   "outputs": [
    {
     "name": "stdin",
     "output_type": "stream",
     "text": [
      "Enter a number 6\n"
     ]
    },
    {
     "name": "stdout",
     "output_type": "stream",
     "text": [
      "Multiplication Table of  6\n",
      "6 x 1 = 6\n",
      "6 x 2 = 12\n",
      "6 x 3 = 18\n",
      "6 x 4 = 24\n",
      "6 x 5 = 30\n",
      "6 x 6 = 36\n",
      "6 x 7 = 42\n",
      "6 x 8 = 48\n",
      "6 x 9 = 54\n",
      "6 x 10 = 60\n",
      "6 x 11 = 66\n",
      "6 x 12 = 72\n"
     ]
    }
   ],
   "source": [
    "i=int(input('Enter a number'))\n",
    "print('Multiplication Table of ',i) \n",
    "coefficients=(1,2,3,4,5,6,7,8,9,10,11,12)\n",
    "for c in coefficients:\n",
    "    print(i,'x',c,'=',i*c)"
   ]
  },
  {
   "cell_type": "code",
   "execution_count": 4,
   "id": "7344c6e4-380f-4537-be93-3187d0626fe0",
   "metadata": {},
   "outputs": [
    {
     "name": "stdout",
     "output_type": "stream",
     "text": [
      "*\n",
      "**\n",
      "***\n",
      "****\n",
      "*****\n",
      "******\n",
      "*******\n",
      "********\n"
     ]
    }
   ],
   "source": [
    "for i in range(1, 9):\n",
    "    for j in range(i):\n",
    "        print(\"*\", end=\"\") \n",
    "    print() "
   ]
  },
  {
   "cell_type": "code",
   "execution_count": 2,
   "id": "810d326a-c67e-4797-bb97-7c3a1d0f0266",
   "metadata": {},
   "outputs": [
    {
     "name": "stdin",
     "output_type": "stream",
     "text": [
      "Enter the first number:  3\n",
      "Enter the second number:  4\n"
     ]
    },
    {
     "name": "stdout",
     "output_type": "stream",
     "text": [
      "The GCD of 3 and 4 is 1\n"
     ]
    }
   ],
   "source": [
    "def compute_gcd(a, b):\n",
    "    while b:\n",
    "        a, b = b, a % b\n",
    "    return a\n",
    "\n",
    "#input from the user\n",
    "num1 = int(input(\"Enter the first number: \"))\n",
    "num2 = int(input(\"Enter the second number: \"))\n",
    "\n",
    "gcd = compute_gcd(num1, num2)\n",
    "print(f\"The GCD of {num1} and {num2} is {gcd}\")"
   ]
  },
  {
   "cell_type": "code",
   "execution_count": 4,
   "id": "dcdee40c-546e-4733-ae95-c8e382f9e6b3",
   "metadata": {},
   "outputs": [
    {
     "name": "stdin",
     "output_type": "stream",
     "text": [
      "Enter a number:  4\n"
     ]
    },
    {
     "name": "stdout",
     "output_type": "stream",
     "text": [
      "The factorial of 4 is (4 * 3 * 2 * 1 = 24 )\n"
     ]
    }
   ],
   "source": [
    "import math\n",
    "\n",
    "try:\n",
    "    num = float(input(\"Enter a number: \"))\n",
    "    \n",
    "    if not num.is_integer():\n",
    "        raise ValueError(\"The number must be an integer.\")\n",
    "    \n",
    "    num = int(num)\n",
    "    \n",
    "    if num < 0:\n",
    "        raise ValueError(\"Factorial is not defined for negative numbers.\")\n",
    "    \n",
    "    result = math.factorial(num)\n",
    "    print(f\"The factorial of {num} is ({num}\",end=\"\")\n",
    "    while num>1:\n",
    "            num-=1\n",
    "            print(' *',num,end=\"\")\n",
    "    print(' =',result,')')\n",
    "\n",
    "except ValueError as e:\n",
    "    print(\"Error:\", e)"
   ]
  },
  {
   "cell_type": "code",
   "execution_count": null,
   "id": "b9dab111-b8b2-4a20-a530-4f3bd7f9e041",
   "metadata": {},
   "outputs": [],
   "source": []
  }
 ],
 "metadata": {
  "kernelspec": {
   "display_name": "Python [conda env:base] *",
   "language": "python",
   "name": "conda-base-py"
  },
  "language_info": {
   "codemirror_mode": {
    "name": "ipython",
    "version": 3
   },
   "file_extension": ".py",
   "mimetype": "text/x-python",
   "name": "python",
   "nbconvert_exporter": "python",
   "pygments_lexer": "ipython3",
   "version": "3.12.7"
  }
 },
 "nbformat": 4,
 "nbformat_minor": 5
}
