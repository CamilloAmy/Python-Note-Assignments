{
 "cells": [
  {
   "cell_type": "code",
   "execution_count": 1,
   "id": "a6865346-e984-4ba8-9306-888796c21311",
   "metadata": {},
   "outputs": [
    {
     "name": "stdout",
     "output_type": "stream",
     "text": [
      "Requirement already satisfied: pandas in /opt/anaconda3/lib/python3.12/site-packages (2.2.2)\n",
      "Requirement already satisfied: numpy>=1.26.0 in /opt/anaconda3/lib/python3.12/site-packages (from pandas) (1.26.4)\n",
      "Requirement already satisfied: python-dateutil>=2.8.2 in /opt/anaconda3/lib/python3.12/site-packages (from pandas) (2.9.0.post0)\n",
      "Requirement already satisfied: pytz>=2020.1 in /opt/anaconda3/lib/python3.12/site-packages (from pandas) (2024.1)\n",
      "Requirement already satisfied: tzdata>=2022.7 in /opt/anaconda3/lib/python3.12/site-packages (from pandas) (2023.3)\n",
      "Requirement already satisfied: six>=1.5 in /opt/anaconda3/lib/python3.12/site-packages (from python-dateutil>=2.8.2->pandas) (1.16.0)\n"
     ]
    }
   ],
   "source": [
    "!pip install pandas"
   ]
  },
  {
   "cell_type": "code",
   "execution_count": 3,
   "id": "fb305224-e0f5-4a17-8238-c07a74f8c2c0",
   "metadata": {},
   "outputs": [
    {
     "name": "stdout",
     "output_type": "stream",
     "text": [
      "Requirement already satisfied: scipy in /opt/anaconda3/lib/python3.12/site-packages (1.13.1)\n",
      "Requirement already satisfied: numpy<2.3,>=1.22.4 in /opt/anaconda3/lib/python3.12/site-packages (from scipy) (1.26.4)\n"
     ]
    }
   ],
   "source": [
    "!pip install scipy"
   ]
  },
  {
   "cell_type": "code",
   "execution_count": 13,
   "id": "b489ec99-0f22-4802-91b0-251f3ae9d4e5",
   "metadata": {},
   "outputs": [
    {
     "name": "stdout",
     "output_type": "stream",
     "text": [
      "Collecting statistics\n",
      "  Downloading statistics-1.0.3.5.tar.gz (8.3 kB)\n",
      "  Preparing metadata (setup.py) ... \u001b[?25ldone\n",
      "\u001b[?25hRequirement already satisfied: docutils>=0.3 in /opt/anaconda3/lib/python3.12/site-packages (from statistics) (0.18.1)\n",
      "Building wheels for collected packages: statistics\n",
      "  Building wheel for statistics (setup.py) ... \u001b[?25ldone\n",
      "\u001b[?25h  Created wheel for statistics: filename=statistics-1.0.3.5-py3-none-any.whl size=7435 sha256=e4ffe31b080565e458446c7c9c35cbcd291e6d5c1355bed0a7f120c18662a5d1\n",
      "  Stored in directory: /Users/phoelapyae/Library/Caches/pip/wheels/10/9c/1a/0c68a89e4533a18e9f9902018b94ffc2481139818b67cbb05a\n",
      "Successfully built statistics\n",
      "Installing collected packages: statistics\n",
      "Successfully installed statistics-1.0.3.5\n"
     ]
    }
   ],
   "source": [
    "!pip install statistics"
   ]
  },
  {
   "cell_type": "code",
   "execution_count": 7,
   "id": "ad66d8f0-0151-47f0-858b-fc2dc8ea52dd",
   "metadata": {},
   "outputs": [
    {
     "name": "stdout",
     "output_type": "stream",
     "text": [
      "Requirement already satisfied: seaborn in /opt/anaconda3/lib/python3.12/site-packages (0.13.2)\n",
      "Requirement already satisfied: numpy!=1.24.0,>=1.20 in /opt/anaconda3/lib/python3.12/site-packages (from seaborn) (1.26.4)\n",
      "Requirement already satisfied: pandas>=1.2 in /opt/anaconda3/lib/python3.12/site-packages (from seaborn) (2.2.2)\n",
      "Requirement already satisfied: matplotlib!=3.6.1,>=3.4 in /opt/anaconda3/lib/python3.12/site-packages (from seaborn) (3.9.2)\n",
      "Requirement already satisfied: contourpy>=1.0.1 in /opt/anaconda3/lib/python3.12/site-packages (from matplotlib!=3.6.1,>=3.4->seaborn) (1.2.0)\n",
      "Requirement already satisfied: cycler>=0.10 in /opt/anaconda3/lib/python3.12/site-packages (from matplotlib!=3.6.1,>=3.4->seaborn) (0.11.0)\n",
      "Requirement already satisfied: fonttools>=4.22.0 in /opt/anaconda3/lib/python3.12/site-packages (from matplotlib!=3.6.1,>=3.4->seaborn) (4.51.0)\n",
      "Requirement already satisfied: kiwisolver>=1.3.1 in /opt/anaconda3/lib/python3.12/site-packages (from matplotlib!=3.6.1,>=3.4->seaborn) (1.4.4)\n",
      "Requirement already satisfied: packaging>=20.0 in /opt/anaconda3/lib/python3.12/site-packages (from matplotlib!=3.6.1,>=3.4->seaborn) (24.1)\n",
      "Requirement already satisfied: pillow>=8 in /opt/anaconda3/lib/python3.12/site-packages (from matplotlib!=3.6.1,>=3.4->seaborn) (10.4.0)\n",
      "Requirement already satisfied: pyparsing>=2.3.1 in /opt/anaconda3/lib/python3.12/site-packages (from matplotlib!=3.6.1,>=3.4->seaborn) (3.1.2)\n",
      "Requirement already satisfied: python-dateutil>=2.7 in /opt/anaconda3/lib/python3.12/site-packages (from matplotlib!=3.6.1,>=3.4->seaborn) (2.9.0.post0)\n",
      "Requirement already satisfied: pytz>=2020.1 in /opt/anaconda3/lib/python3.12/site-packages (from pandas>=1.2->seaborn) (2024.1)\n",
      "Requirement already satisfied: tzdata>=2022.7 in /opt/anaconda3/lib/python3.12/site-packages (from pandas>=1.2->seaborn) (2023.3)\n",
      "Requirement already satisfied: six>=1.5 in /opt/anaconda3/lib/python3.12/site-packages (from python-dateutil>=2.7->matplotlib!=3.6.1,>=3.4->seaborn) (1.16.0)\n"
     ]
    }
   ],
   "source": [
    "!pip install seaborn"
   ]
  },
  {
   "cell_type": "code",
   "execution_count": 11,
   "id": "943106bb-4219-4128-a402-acd38a8a8a76",
   "metadata": {},
   "outputs": [
    {
     "name": "stdout",
     "output_type": "stream",
     "text": [
      "Requirement already satisfied: matplotlib in /opt/anaconda3/lib/python3.12/site-packages (3.9.2)\n",
      "Requirement already satisfied: contourpy>=1.0.1 in /opt/anaconda3/lib/python3.12/site-packages (from matplotlib) (1.2.0)\n",
      "Requirement already satisfied: cycler>=0.10 in /opt/anaconda3/lib/python3.12/site-packages (from matplotlib) (0.11.0)\n",
      "Requirement already satisfied: fonttools>=4.22.0 in /opt/anaconda3/lib/python3.12/site-packages (from matplotlib) (4.51.0)\n",
      "Requirement already satisfied: kiwisolver>=1.3.1 in /opt/anaconda3/lib/python3.12/site-packages (from matplotlib) (1.4.4)\n",
      "Requirement already satisfied: numpy>=1.23 in /opt/anaconda3/lib/python3.12/site-packages (from matplotlib) (1.26.4)\n",
      "Requirement already satisfied: packaging>=20.0 in /opt/anaconda3/lib/python3.12/site-packages (from matplotlib) (24.1)\n",
      "Requirement already satisfied: pillow>=8 in /opt/anaconda3/lib/python3.12/site-packages (from matplotlib) (10.4.0)\n",
      "Requirement already satisfied: pyparsing>=2.3.1 in /opt/anaconda3/lib/python3.12/site-packages (from matplotlib) (3.1.2)\n",
      "Requirement already satisfied: python-dateutil>=2.7 in /opt/anaconda3/lib/python3.12/site-packages (from matplotlib) (2.9.0.post0)\n",
      "Requirement already satisfied: six>=1.5 in /opt/anaconda3/lib/python3.12/site-packages (from python-dateutil>=2.7->matplotlib) (1.16.0)\n"
     ]
    }
   ],
   "source": [
    "!pip install matplotlib"
   ]
  },
  {
   "cell_type": "code",
   "execution_count": 2,
   "id": "ffacc8c7-3637-48d8-882c-066b0b9d76e9",
   "metadata": {},
   "outputs": [
    {
     "name": "stdin",
     "output_type": "stream",
     "text": [
      "enter the value of a 1\n",
      "enter the value of b 2\n"
     ]
    },
    {
     "name": "stdout",
     "output_type": "stream",
     "text": [
      "Before swaping the value of a is 1 and the  value of b is 2.\n",
      "After swaping the value of a is 2 and the  value of b is 1.\n"
     ]
    }
   ],
   "source": [
    "a,b=input('enter the value of a'),input('enter the value of b')\n",
    "print('Before swaping the value of a is {0} and the  value of b is {1}.'.format(a,b))\n",
    "a,b=b,a\n",
    "print('After swaping the value of a is {0} and the  value of b is {1}.'.format(a,b))"
   ]
  },
  {
   "cell_type": "code",
   "execution_count": 4,
   "id": "de6047db-7f2d-4f03-b903-97bbce71bc86",
   "metadata": {},
   "outputs": [
    {
     "name": "stdout",
     "output_type": "stream",
     "text": [
      "Hello World!\n",
      "H\n",
      "llo\n",
      "llo World!\n",
      "Hello World!Hello World!Hello World!\n",
      "Hello World!Program\n"
     ]
    }
   ],
   "source": [
    "#strings data\n",
    "str='Hello World!'\n",
    "print(str)\n",
    "print(str[0])\n",
    "print(str[2:5])\n",
    "print(str[2:])\n",
    "print(str*3)\n",
    "print(str+\"Program\")"
   ]
  },
  {
   "cell_type": "code",
   "execution_count": 6,
   "id": "0be27d3a-97fe-4bf6-a129-c48247054136",
   "metadata": {},
   "outputs": [
    {
     "name": "stdout",
     "output_type": "stream",
     "text": [
      "['python', 777, 10.0, 50, 'hello']\n",
      "[1234, 'program']\n",
      "python\n",
      "[777, 10.0, 50]\n",
      "[10.0, 50, 'hello']\n",
      "[1234, 'program', 1234, 'program', 1234, 'program', 1234, 'program']\n",
      "['python', 777, 10.0, 50, 'hello', 1234, 'program']\n"
     ]
    }
   ],
   "source": [
    "#list data\n",
    "list=['python',777,10.0,50,'hello']\n",
    "print(list)\n",
    "mylist=[1234,'program']\n",
    "print(mylist)\n",
    "print(list[0])\n",
    "print(list[1:4])\n",
    "print(list[2:])\n",
    "print(mylist*4)\n",
    "print(list+mylist)"
   ]
  },
  {
   "cell_type": "code",
   "execution_count": 8,
   "id": "5f9e329a-4f65-4ab8-a2bf-f58d442a3593",
   "metadata": {},
   "outputs": [
    {
     "name": "stdout",
     "output_type": "stream",
     "text": [
      "('python', 777, 10.0, 50, 'hello')\n",
      "[1234, 'program']\n",
      "python\n",
      "(777, 10.0, 50)\n",
      "(10.0, 50, 'hello')\n",
      "(1234, 'program', 1234, 'program', 1234, 'program', 1234, 'program')\n",
      "('python', 777, 10.0, 50, 'hello', 1234, 'program')\n"
     ]
    }
   ],
   "source": [
    "#tuples data\n",
    "tuple=('python',777,10.0,50,'hello')\n",
    "print(tuple)\n",
    "mytuple=(1234,'program')\n",
    "print(mylist)\n",
    "print(tuple[0])\n",
    "print(tuple[1:4])\n",
    "print(tuple[2:])\n",
    "print(mytuple*4)\n",
    "print(tuple+mytuple)"
   ]
  },
  {
   "cell_type": "code",
   "execution_count": 10,
   "id": "217e13da-3fc4-4a33-9cd0-c8cb39944c2f",
   "metadata": {},
   "outputs": [
    {
     "name": "stdout",
     "output_type": "stream",
     "text": [
      "[1, 2, 1000, 4]\n"
     ]
    }
   ],
   "source": [
    "list=[1,2,3,4]\n",
    "tuple=(1,2,3,4)\n",
    "list[2]=1000\n",
    "#tuple[2]=1000\n",
    "print(list)"
   ]
  },
  {
   "cell_type": "code",
   "execution_count": 12,
   "id": "3f7124d1-cbc1-4749-86bb-26057167c978",
   "metadata": {},
   "outputs": [
    {
     "name": "stdout",
     "output_type": "stream",
     "text": [
      "{'name': 'john', 'code': 232, 'dept': 'cs'}\n",
      "dict_keys(['name', 'code', 'dept'])\n",
      "dict_values(['john', 232, 'cs'])\n"
     ]
    }
   ],
   "source": [
    "#dictionary\n",
    "mydict={'name':'john','code':232,'dept':'cs'}\n",
    "print(mydict)\n",
    "print(mydict.keys())\n",
    "print(mydict.values())"
   ]
  },
  {
   "cell_type": "code",
   "execution_count": 14,
   "id": "44387bd6-ff0c-4cf7-9dee-3a90bfd15b04",
   "metadata": {},
   "outputs": [
    {
     "name": "stdout",
     "output_type": "stream",
     "text": [
      "Result of a+b is: 31\n",
      "Result of a-b is: 11\n",
      "Result of a*b is: 210\n",
      "Result of a/b is: 2.1\n",
      "Result of a%b is: 1\n"
     ]
    }
   ],
   "source": [
    "#Arithmetic Operator\n",
    "a=21\n",
    "b=10\n",
    "c=0\n",
    "c=a+b\n",
    "print('Result of a+b is:',c)\n",
    "c=a-b\n",
    "print('Result of a-b is:',c)\n",
    "c=a*b\n",
    "print('Result of a*b is:',c)\n",
    "c=a/b\n",
    "print('Result of a/b is:',c)\n",
    "c=a%b\n",
    "print('Result of a%b is:',c)"
   ]
  },
  {
   "cell_type": "code",
   "execution_count": 16,
   "id": "b037a3bd-aa3c-4e9b-8602-780c5aa8b6fe",
   "metadata": {},
   "outputs": [
    {
     "name": "stdout",
     "output_type": "stream",
     "text": [
      "a is not equal b\n",
      "a is not less than b\n"
     ]
    }
   ],
   "source": [
    "#Relational Operator ( == ) ( != ) ( > ) ( < ) ( >= ) ( <= )\n",
    "a=21 \n",
    "b=10\n",
    "\n",
    "if(a==b):\n",
    "    print('a is equal b')\n",
    "else:\n",
    "    print('a is not equal b')\n",
    "\n",
    "if(a<b):\n",
    "    print('a is less than b')\n",
    "else:\n",
    "    print('a is not less than b')"
   ]
  },
  {
   "cell_type": "code",
   "execution_count": 18,
   "id": "aca7a132-016b-4d42-a7a2-da19240b7017",
   "metadata": {},
   "outputs": [
    {
     "name": "stdout",
     "output_type": "stream",
     "text": [
      "value of c: 31\n",
      "value of c: 52\n",
      "value of c: 1092\n"
     ]
    }
   ],
   "source": [
    "#Assignment Operator \n",
    "# = , +=Add AND , -=Substract AND , *=Multiply AND , /=Divide AND , %=Modulus AND , **=Exponent AND , //=Floor Division\n",
    "\n",
    "a=21\n",
    "b=10\n",
    "\n",
    "c=a+b\n",
    "print('value of c:',c)\n",
    "c+=a\n",
    "print('value of c:',c)\n",
    "c*=a\n",
    "print('value of c:',c)"
   ]
  },
  {
   "cell_type": "code",
   "execution_count": 20,
   "id": "ae765bfc-ad6d-4d3b-99cb-57010f452b73",
   "metadata": {},
   "outputs": [
    {
     "name": "stdout",
     "output_type": "stream",
     "text": [
      "The numbers are greater than zero.\n"
     ]
    }
   ],
   "source": [
    "#logical Operator\n",
    "# and  or  not\n",
    "\n",
    "a=21\n",
    "b=10\n",
    "if a>0 and b>0:\n",
    "    print('The numbers are greater than zero.')\n",
    "elif a>0 or b>0:\n",
    "    print('Both numbers or one of these numbers is greater than zero.')\n",
    "else:\n",
    "    print('At least one number is not greater zero.')"
   ]
  },
  {
   "cell_type": "code",
   "execution_count": 22,
   "id": "ac50297f-ad0c-4fde-84c3-cbb1964a0ccc",
   "metadata": {},
   "outputs": [
    {
     "name": "stdin",
     "output_type": "stream",
     "text": [
      "Enter the value of x 4\n"
     ]
    },
    {
     "name": "stdout",
     "output_type": "stream",
     "text": [
      "x is positive\n"
     ]
    }
   ],
   "source": [
    "x=int(input('Enter the value of x'))\n",
    "\n",
    "if x==0:\n",
    "    print('x is zero')\n",
    "elif x>0:\n",
    "    print('x is positive')\n",
    "else:\n",
    "    print('x is negative')"
   ]
  },
  {
   "cell_type": "code",
   "execution_count": 28,
   "id": "815b522e-d60c-4d71-a56b-0299d8db28b9",
   "metadata": {},
   "outputs": [
    {
     "name": "stdin",
     "output_type": "stream",
     "text": [
      "Enter amount: 800\n"
     ]
    },
    {
     "name": "stdout",
     "output_type": "stream",
     "text": [
      "Discount price: 40.0\n",
      "Net payable: 760.0\n"
     ]
    }
   ],
   "source": [
    "amount=int(input('Enter amount:'))\n",
    "if amount<1000:\n",
    "    discount=amount*0.05\n",
    "    print('Discount price:',discount)\n",
    "\n",
    "elif amount>1000 and amount<5000:\n",
    "    discount=amount*0.10\n",
    "    print('Discount price:',discount)\n",
    "\n",
    "else:\n",
    "    discount=amount*0.15\n",
    "    print('Discount price:',discount)\n",
    "\n",
    "print('Net payable:',amount-discount)"
   ]
  },
  {
   "cell_type": "code",
   "execution_count": 40,
   "id": "4ce1f002-2421-48ef-becc-5630332c45ef",
   "metadata": {},
   "outputs": [
    {
     "name": "stdin",
     "output_type": "stream",
     "text": [
      "Enter number 8\n"
     ]
    },
    {
     "name": "stdout",
     "output_type": "stream",
     "text": [
      "divisable by 2, not divisable by 3\n"
     ]
    }
   ],
   "source": [
    "#Nested If Statement\n",
    "#Divisable Value or Not Program\n",
    "\n",
    "num=int(input('Enter number'))\n",
    "if num%2==0:\n",
    "    \n",
    "    if num%3==0:\n",
    "        print('divisable by 2 and 3')\n",
    "    else:\n",
    "        print('divisable by 2, not divisable by 3')\n",
    "        \n",
    "else:\n",
    "    \n",
    "    if num%3==0:\n",
    "        print('not divisable by 2,divasable by 3')\n",
    "    else:\n",
    "        print('not divisable by 2,not divisable by 3')"
   ]
  },
  {
   "cell_type": "code",
   "execution_count": 2,
   "id": "17a031de-087d-4712-b8e8-83e72a92131d",
   "metadata": {},
   "outputs": [
    {
     "name": "stdout",
     "output_type": "stream",
     "text": [
      "0  is less than six.\n",
      "1  is less than six.\n",
      "2  is less than six.\n",
      "3  is less than six.\n",
      "4  is less than six.\n",
      "5  is less than six.\n",
      "6  reach to targeted point.\n"
     ]
    }
   ],
   "source": [
    "#Looping Program\n",
    "# wile loop\n",
    "#Using Else  Statement with while loops\n",
    "\n",
    "count=0\n",
    "while count<6:\n",
    "    print(count,' is less than six.')\n",
    "    count=count+1\n",
    "else:\n",
    "    print(count,' reach to targeted point.')"
   ]
  },
  {
   "cell_type": "code",
   "execution_count": 4,
   "id": "9e802f1b-2806-48c6-b5d3-759492a583c0",
   "metadata": {},
   "outputs": [
    {
     "name": "stdout",
     "output_type": "stream",
     "text": [
      "cat 3\n",
      "window 6\n",
      "computer 8\n"
     ]
    }
   ],
   "source": [
    "#For loop statement\n",
    "words=['cat','window','computer']\n",
    "for w in words:\n",
    "    print(w,len(w))"
   ]
  },
  {
   "cell_type": "code",
   "execution_count": 8,
   "id": "6deeddc9-a257-44a0-af86-749fdbe9de4f",
   "metadata": {},
   "outputs": [
    {
     "name": "stdout",
     "output_type": "stream",
     "text": [
      "[5, 6, 7, 8, 9]\n",
      "[0, 3, 6, 9]\n",
      "[-10, -40, -70]\n"
     ]
    }
   ],
   "source": [
    "#The range() function\n",
    "a=list(range(5,10))\n",
    "b=list(range(0,10,3))\n",
    "c=list(range(-10,-100,-30))\n",
    "print(a)\n",
    "print(b)\n",
    "print(c)"
   ]
  },
  {
   "cell_type": "code",
   "execution_count": 10,
   "id": "2f4eddd8-538a-4280-a090-dbcac6cda8bd",
   "metadata": {},
   "outputs": [
    {
     "name": "stdout",
     "output_type": "stream",
     "text": [
      "Fruit: 0 banana\n",
      "Fruit: 1 apple\n",
      "Fruit: 2 mango\n",
      "Fruit: 3 orange\n",
      "Good Bye\n"
     ]
    }
   ],
   "source": [
    "#Interating by Sequence Index\n",
    "fruits=['banana','apple','mango','orange']\n",
    "for i in range(len(fruits)):\n",
    "    print('Fruit:',i,fruits[i])\n",
    "print('Good Bye')"
   ]
  },
  {
   "cell_type": "code",
   "execution_count": 12,
   "id": "e43ccc0e-5d29-4d05-8f0f-722d8a95d71b",
   "metadata": {},
   "outputs": [
    {
     "name": "stdout",
     "output_type": "stream",
     "text": [
      "9 8 7 6 5 4 3 2 1 "
     ]
    }
   ],
   "source": [
    "#Reverse order program\n",
    "list=[1,2,3,4,5,6,7,8,9]\n",
    "new_list=reversed(list)\n",
    "for item in new_list:\n",
    "    print(item,end=' ')"
   ]
  },
  {
   "cell_type": "code",
   "execution_count": 20,
   "id": "720bc059-ce15-4e7d-bdbf-93add755d179",
   "metadata": {},
   "outputs": [
    {
     "name": "stdout",
     "output_type": "stream",
     "text": [
      "[11]  is an odd number.\n",
      "[13]  is an odd number.\n",
      "[14]  is an even number.\n",
      "[23]  is an odd number.\n",
      "[45]  is an odd number.\n",
      "[36]  is an even number.\n",
      "[17]  is an odd number.\n",
      "[28]  is an even number.\n",
      "[50]  is an even number.\n"
     ]
    }
   ],
   "source": [
    "#Using Else Statement with for loops\n",
    "#Checking even Number program\n",
    "numbers=[11,13,14,23,45,36,17,28,50]\n",
    "for num in numbers:\n",
    "    if num%2==0:\n",
    "        print([num],' is an even number.')\n",
    "    else:\n",
    "        print([num],' is an odd number.')"
   ]
  },
  {
   "cell_type": "code",
   "execution_count": 2,
   "id": "c26c8655-1bf1-4739-a30f-6edca61b352f",
   "metadata": {},
   "outputs": [
    {
     "name": "stdout",
     "output_type": "stream",
     "text": [
      "2 * 1 = 2\n",
      "2 * 2 = 4\n",
      "2 * 3 = 6\n",
      "2 * 4 = 8\n",
      "2 * 5 = 10\n",
      "2 * 6 = 12\n",
      "2 * 7 = 14\n",
      "2 * 8 = 16\n",
      "2 * 9 = 18\n",
      "2 * 10 = 20\n",
      "\n",
      "3 * 1 = 3\n",
      "3 * 2 = 6\n",
      "3 * 3 = 9\n",
      "3 * 4 = 12\n",
      "3 * 5 = 15\n",
      "3 * 6 = 18\n",
      "3 * 7 = 21\n",
      "3 * 8 = 24\n",
      "3 * 9 = 27\n",
      "3 * 10 = 30\n",
      "\n",
      "4 * 1 = 4\n",
      "4 * 2 = 8\n",
      "4 * 3 = 12\n",
      "4 * 4 = 16\n",
      "4 * 5 = 20\n",
      "4 * 6 = 24\n",
      "4 * 7 = 28\n",
      "4 * 8 = 32\n",
      "4 * 9 = 36\n",
      "4 * 10 = 40\n",
      "\n",
      "5 * 1 = 5\n",
      "5 * 2 = 10\n",
      "5 * 3 = 15\n",
      "5 * 4 = 20\n",
      "5 * 5 = 25\n",
      "5 * 6 = 30\n",
      "5 * 7 = 35\n",
      "5 * 8 = 40\n",
      "5 * 9 = 45\n",
      "5 * 10 = 50\n",
      "\n",
      "6 * 1 = 6\n",
      "6 * 2 = 12\n",
      "6 * 3 = 18\n",
      "6 * 4 = 24\n",
      "6 * 5 = 30\n",
      "6 * 6 = 36\n",
      "6 * 7 = 42\n",
      "6 * 8 = 48\n",
      "6 * 9 = 54\n",
      "6 * 10 = 60\n",
      "\n",
      "7 * 1 = 7\n",
      "7 * 2 = 14\n",
      "7 * 3 = 21\n",
      "7 * 4 = 28\n",
      "7 * 5 = 35\n",
      "7 * 6 = 42\n",
      "7 * 7 = 49\n",
      "7 * 8 = 56\n",
      "7 * 9 = 63\n",
      "7 * 10 = 70\n",
      "\n",
      "8 * 1 = 8\n",
      "8 * 2 = 16\n",
      "8 * 3 = 24\n",
      "8 * 4 = 32\n",
      "8 * 5 = 40\n",
      "8 * 6 = 48\n",
      "8 * 7 = 56\n",
      "8 * 8 = 64\n",
      "8 * 9 = 72\n",
      "8 * 10 = 80\n",
      "\n"
     ]
    }
   ],
   "source": [
    "#Nested loops\n",
    "for i in range(2,9):\n",
    "    for j in range(1,11):\n",
    "        print(i,'*',j,'=',i*j)\n",
    "    print()"
   ]
  },
  {
   "cell_type": "code",
   "execution_count": 12,
   "id": "2fb2e1eb-82ee-46f6-94d1-522255b77eb8",
   "metadata": {},
   "outputs": [
    {
     "name": "stdout",
     "output_type": "stream",
     "text": [
      "1 * 1 = 1\n",
      "1 * 2 = 2\n",
      "1 * 3 = 3\n",
      "1 * 4 = 4\n",
      "1 * 5 = 5\n",
      "1 * 6 = 6\n",
      "1 * 7 = 7\n",
      "1 * 8 = 8\n",
      "1 * 9 = 9\n",
      "1 * 10 = 10\n",
      "\n",
      "\n",
      "2 * 1 = 2\n",
      "2 * 2 = 4\n",
      "2 * 3 = 6\n",
      "2 * 4 = 8\n",
      "2 * 5 = 10\n",
      "2 * 6 = 12\n",
      "2 * 7 = 14\n",
      "2 * 8 = 16\n",
      "2 * 9 = 18\n",
      "2 * 10 = 20\n",
      "\n",
      "\n",
      "3 * 1 = 3\n",
      "3 * 2 = 6\n",
      "3 * 3 = 9\n",
      "3 * 4 = 12\n",
      "3 * 5 = 15\n",
      "3 * 6 = 18\n",
      "3 * 7 = 21\n",
      "3 * 8 = 24\n",
      "3 * 9 = 27\n",
      "3 * 10 = 30\n",
      "\n",
      "\n",
      "4 * 1 = 4\n",
      "4 * 2 = 8\n",
      "4 * 3 = 12\n",
      "4 * 4 = 16\n",
      "4 * 5 = 20\n",
      "4 * 6 = 24\n",
      "4 * 7 = 28\n",
      "4 * 8 = 32\n",
      "4 * 9 = 36\n",
      "4 * 10 = 40\n",
      "\n",
      "\n",
      "5 * 1 = 5\n",
      "5 * 2 = 10\n",
      "5 * 3 = 15\n",
      "5 * 4 = 20\n",
      "5 * 5 = 25\n",
      "5 * 6 = 30\n",
      "5 * 7 = 35\n",
      "5 * 8 = 40\n",
      "5 * 9 = 45\n",
      "5 * 10 = 50\n",
      "\n",
      "\n",
      "6 * 1 = 6\n",
      "6 * 2 = 12\n",
      "6 * 3 = 18\n",
      "6 * 4 = 24\n",
      "6 * 5 = 30\n",
      "6 * 6 = 36\n",
      "6 * 7 = 42\n",
      "6 * 8 = 48\n",
      "6 * 9 = 54\n",
      "6 * 10 = 60\n",
      "\n",
      "\n",
      "7 * 1 = 7\n",
      "7 * 2 = 14\n",
      "7 * 3 = 21\n",
      "7 * 4 = 28\n",
      "7 * 5 = 35\n",
      "7 * 6 = 42\n",
      "7 * 7 = 49\n",
      "7 * 8 = 56\n",
      "7 * 9 = 63\n",
      "7 * 10 = 70\n",
      "\n",
      "\n",
      "8 * 1 = 8\n",
      "8 * 2 = 16\n",
      "8 * 3 = 24\n",
      "8 * 4 = 32\n",
      "8 * 5 = 40\n",
      "8 * 6 = 48\n",
      "8 * 7 = 56\n",
      "8 * 8 = 64\n",
      "8 * 9 = 72\n",
      "8 * 10 = 80\n",
      "\n",
      "\n",
      "9 * 1 = 9\n",
      "9 * 2 = 18\n",
      "9 * 3 = 27\n",
      "9 * 4 = 36\n",
      "9 * 5 = 45\n",
      "9 * 6 = 54\n",
      "9 * 7 = 63\n",
      "9 * 8 = 72\n",
      "9 * 9 = 81\n",
      "9 * 10 = 90\n",
      "\n",
      "\n",
      "10 * 1 = 10\n",
      "10 * 2 = 20\n",
      "10 * 3 = 30\n",
      "10 * 4 = 40\n",
      "10 * 5 = 50\n",
      "10 * 6 = 60\n",
      "10 * 7 = 70\n",
      "10 * 8 = 80\n",
      "10 * 9 = 90\n",
      "10 * 10 = 100\n",
      "\n",
      "\n",
      "11 * 1 = 11\n",
      "11 * 2 = 22\n",
      "11 * 3 = 33\n",
      "11 * 4 = 44\n",
      "11 * 5 = 55\n",
      "11 * 6 = 66\n",
      "11 * 7 = 77\n",
      "11 * 8 = 88\n",
      "11 * 9 = 99\n",
      "11 * 10 = 110\n",
      "\n",
      "\n",
      "12 * 1 = 12\n",
      "12 * 2 = 24\n",
      "12 * 3 = 36\n",
      "12 * 4 = 48\n",
      "12 * 5 = 60\n",
      "12 * 6 = 72\n",
      "12 * 7 = 84\n",
      "12 * 8 = 96\n",
      "12 * 9 = 108\n",
      "12 * 10 = 120\n",
      "\n",
      "\n",
      "13 * 1 = 13\n",
      "13 * 2 = 26\n",
      "13 * 3 = 39\n",
      "13 * 4 = 52\n",
      "13 * 5 = 65\n",
      "13 * 6 = 78\n",
      "13 * 7 = 91\n",
      "13 * 8 = 104\n",
      "13 * 9 = 117\n",
      "13 * 10 = 130\n",
      "\n",
      "\n",
      "14 * 1 = 14\n",
      "14 * 2 = 28\n",
      "14 * 3 = 42\n",
      "14 * 4 = 56\n",
      "14 * 5 = 70\n",
      "14 * 6 = 84\n",
      "14 * 7 = 98\n",
      "14 * 8 = 112\n",
      "14 * 9 = 126\n",
      "14 * 10 = 140\n",
      "\n",
      "\n",
      "15 * 1 = 15\n",
      "15 * 2 = 30\n",
      "15 * 3 = 45\n",
      "15 * 4 = 60\n",
      "15 * 5 = 75\n",
      "15 * 6 = 90\n",
      "15 * 7 = 105\n",
      "15 * 8 = 120\n",
      "15 * 9 = 135\n",
      "15 * 10 = 150\n",
      "\n",
      "\n",
      "16 * 1 = 16\n",
      "16 * 2 = 32\n",
      "16 * 3 = 48\n",
      "16 * 4 = 64\n",
      "16 * 5 = 80\n",
      "16 * 6 = 96\n",
      "16 * 7 = 112\n",
      "16 * 8 = 128\n",
      "16 * 9 = 144\n",
      "16 * 10 = 160\n",
      "\n",
      "\n"
     ]
    }
   ],
   "source": [
    "#Nested loops\n",
    "i=1\n",
    "while i<17:\n",
    "    j=1\n",
    "    while j<=10:\n",
    "        print(i,'*',j,'=',i*j)\n",
    "        j+=1\n",
    "    i+=1\n",
    "    print('\\n')"
   ]
  },
  {
   "cell_type": "code",
   "execution_count": 8,
   "id": "7023973b-ad53-4b0a-8887-6475dfcaead2",
   "metadata": {},
   "outputs": [
    {
     "name": "stdout",
     "output_type": "stream",
     "text": [
      "2 * 1 = 2\n",
      "\n",
      "3 * 1 = 3\n",
      "3 * 2 = 6\n",
      "\n",
      "4 * 1 = 4\n",
      "4 * 2 = 8\n",
      "4 * 3 = 12\n",
      "\n",
      "5 * 1 = 5\n",
      "5 * 2 = 10\n",
      "5 * 3 = 15\n",
      "5 * 4 = 20\n",
      "\n",
      "6 * 1 = 6\n",
      "6 * 2 = 12\n",
      "6 * 3 = 18\n",
      "6 * 4 = 24\n",
      "6 * 5 = 30\n",
      "\n",
      "7 * 1 = 7\n",
      "7 * 2 = 14\n",
      "7 * 3 = 21\n",
      "7 * 4 = 28\n",
      "7 * 5 = 35\n",
      "7 * 6 = 42\n",
      "\n",
      "8 * 1 = 8\n",
      "8 * 2 = 16\n",
      "8 * 3 = 24\n",
      "8 * 4 = 32\n",
      "8 * 5 = 40\n",
      "8 * 6 = 48\n",
      "8 * 7 = 56\n",
      "\n",
      "9 * 1 = 9\n",
      "9 * 2 = 18\n",
      "9 * 3 = 27\n",
      "9 * 4 = 36\n",
      "9 * 5 = 45\n",
      "9 * 6 = 54\n",
      "9 * 7 = 63\n",
      "9 * 8 = 72\n",
      "\n"
     ]
    }
   ],
   "source": [
    "#Loop Control Statement\n",
    "#Break statement\n",
    "\n",
    "for i in range(2,10):\n",
    "    for j in range(1,11):\n",
    "        if i==j:\n",
    "            break\n",
    "        print(i,'*',j,'=',i*j)\n",
    "    print()"
   ]
  },
  {
   "cell_type": "code",
   "execution_count": 10,
   "id": "29b53736-95ab-4f4f-a96d-c1ac04bfd019",
   "metadata": {},
   "outputs": [
    {
     "name": "stdout",
     "output_type": "stream",
     "text": [
      "2 * 1 = 2\n",
      "2 * 3 = 6\n",
      "2 * 4 = 8\n",
      "2 * 5 = 10\n",
      "2 * 6 = 12\n",
      "2 * 7 = 14\n",
      "2 * 8 = 16\n",
      "2 * 9 = 18\n",
      "2 * 10 = 20\n",
      "\n",
      "3 * 1 = 3\n",
      "3 * 2 = 6\n",
      "3 * 4 = 12\n",
      "3 * 5 = 15\n",
      "3 * 6 = 18\n",
      "3 * 7 = 21\n",
      "3 * 8 = 24\n",
      "3 * 9 = 27\n",
      "3 * 10 = 30\n",
      "\n",
      "4 * 1 = 4\n",
      "4 * 2 = 8\n",
      "4 * 3 = 12\n",
      "4 * 5 = 20\n",
      "4 * 6 = 24\n",
      "4 * 7 = 28\n",
      "4 * 8 = 32\n",
      "4 * 9 = 36\n",
      "4 * 10 = 40\n",
      "\n",
      "5 * 1 = 5\n",
      "5 * 2 = 10\n",
      "5 * 3 = 15\n",
      "5 * 4 = 20\n",
      "5 * 6 = 30\n",
      "5 * 7 = 35\n",
      "5 * 8 = 40\n",
      "5 * 9 = 45\n",
      "5 * 10 = 50\n",
      "\n",
      "6 * 1 = 6\n",
      "6 * 2 = 12\n",
      "6 * 3 = 18\n",
      "6 * 4 = 24\n",
      "6 * 5 = 30\n",
      "6 * 7 = 42\n",
      "6 * 8 = 48\n",
      "6 * 9 = 54\n",
      "6 * 10 = 60\n",
      "\n",
      "7 * 1 = 7\n",
      "7 * 2 = 14\n",
      "7 * 3 = 21\n",
      "7 * 4 = 28\n",
      "7 * 5 = 35\n",
      "7 * 6 = 42\n",
      "7 * 8 = 56\n",
      "7 * 9 = 63\n",
      "7 * 10 = 70\n",
      "\n",
      "8 * 1 = 8\n",
      "8 * 2 = 16\n",
      "8 * 3 = 24\n",
      "8 * 4 = 32\n",
      "8 * 5 = 40\n",
      "8 * 6 = 48\n",
      "8 * 7 = 56\n",
      "8 * 9 = 72\n",
      "8 * 10 = 80\n",
      "\n",
      "9 * 1 = 9\n",
      "9 * 2 = 18\n",
      "9 * 3 = 27\n",
      "9 * 4 = 36\n",
      "9 * 5 = 45\n",
      "9 * 6 = 54\n",
      "9 * 7 = 63\n",
      "9 * 8 = 72\n",
      "9 * 10 = 90\n",
      "\n"
     ]
    }
   ],
   "source": [
    "#Continue statement\n",
    "\n",
    "for i in range(2,10):\n",
    "    for j in range(1,11):\n",
    "        if i==j:\n",
    "            continue\n",
    "        print(i,'*',j,'=',i*j)\n",
    "    print()"
   ]
  },
  {
   "cell_type": "code",
   "execution_count": 14,
   "id": "fa96eefc-057f-4e51-ba9a-9aa3659212f6",
   "metadata": {},
   "outputs": [
    {
     "name": "stdout",
     "output_type": "stream",
     "text": [
      "2 * 1 = 2\n",
      "2 * 2 = 4\n",
      "2 * 3 = 6\n",
      "2 * 4 = 8\n",
      "2 * 5 = 10\n",
      "2 * 6 = 12\n",
      "2 * 7 = 14\n",
      "2 * 8 = 16\n",
      "2 * 9 = 18\n",
      "2 * 10 = 20\n",
      "\n",
      "3 * 1 = 3\n",
      "3 * 2 = 6\n",
      "3 * 3 = 9\n",
      "3 * 4 = 12\n",
      "3 * 5 = 15\n",
      "3 * 6 = 18\n",
      "3 * 7 = 21\n",
      "3 * 8 = 24\n",
      "3 * 9 = 27\n",
      "3 * 10 = 30\n",
      "\n",
      "4 * 1 = 4\n",
      "4 * 2 = 8\n",
      "4 * 3 = 12\n",
      "4 * 4 = 16\n",
      "4 * 5 = 20\n",
      "4 * 6 = 24\n",
      "4 * 7 = 28\n",
      "4 * 8 = 32\n",
      "4 * 9 = 36\n",
      "4 * 10 = 40\n",
      "\n",
      "5 * 1 = 5\n",
      "5 * 2 = 10\n",
      "5 * 3 = 15\n",
      "5 * 4 = 20\n",
      "5 * 5 = 25\n",
      "5 * 6 = 30\n",
      "5 * 7 = 35\n",
      "5 * 8 = 40\n",
      "5 * 9 = 45\n",
      "5 * 10 = 50\n",
      "\n",
      "6 * 1 = 6\n",
      "6 * 2 = 12\n",
      "6 * 3 = 18\n",
      "6 * 4 = 24\n",
      "6 * 5 = 30\n",
      "6 * 6 = 36\n",
      "6 * 7 = 42\n",
      "6 * 8 = 48\n",
      "6 * 9 = 54\n",
      "6 * 10 = 60\n",
      "\n",
      "7 * 1 = 7\n",
      "7 * 2 = 14\n",
      "7 * 3 = 21\n",
      "7 * 4 = 28\n",
      "7 * 5 = 35\n",
      "7 * 6 = 42\n",
      "7 * 7 = 49\n",
      "7 * 8 = 56\n",
      "7 * 9 = 63\n",
      "7 * 10 = 70\n",
      "\n",
      "8 * 1 = 8\n",
      "8 * 2 = 16\n",
      "8 * 3 = 24\n",
      "8 * 4 = 32\n",
      "8 * 5 = 40\n",
      "8 * 6 = 48\n",
      "8 * 7 = 56\n",
      "8 * 8 = 64\n",
      "8 * 9 = 72\n",
      "8 * 10 = 80\n",
      "\n",
      "9 * 1 = 9\n",
      "9 * 2 = 18\n",
      "9 * 3 = 27\n",
      "9 * 4 = 36\n",
      "9 * 5 = 45\n",
      "9 * 6 = 54\n",
      "9 * 7 = 63\n",
      "9 * 8 = 72\n",
      "9 * 9 = 81\n",
      "9 * 10 = 90\n",
      "\n"
     ]
    }
   ],
   "source": [
    "#Pass statement\n",
    "\n",
    "for i in range(2,10):\n",
    "    for j in range(1,11):\n",
    "        if i==j:\n",
    "            pass\n",
    "        print(i,'*',j,'=',i*j)\n",
    "    print()"
   ]
  },
  {
   "cell_type": "code",
   "execution_count": 8,
   "id": "8f6acadc-6fdf-4c35-adca-c6d2464c51f9",
   "metadata": {},
   "outputs": [
    {
     "name": "stdout",
     "output_type": "stream",
     "text": [
      "2.718281828459045\n",
      "3.141592653589793\n",
      "6.283185307179586\n",
      "inf\n",
      "-inf\n",
      "nan\n"
     ]
    }
   ],
   "source": [
    "#Numbers part 1\n",
    "#Constants provided by math module\n",
    "import math\n",
    "print(math.e) #Euler's Number\n",
    "print(math.pi) #Pi value\n",
    "print(math.tau) #Tau value\n",
    "print(math.inf) #Infinity\n",
    "print(-math.inf) #Infinity\n",
    "print(math.nan) #Not a Number"
   ]
  },
  {
   "cell_type": "code",
   "execution_count": 6,
   "id": "91b8fed3-7a69-4f3a-b592-f1603ebedbe2",
   "metadata": {},
   "outputs": [
    {
     "name": "stdout",
     "output_type": "stream",
     "text": [
      "The absolute value of a is  56\n",
      "The absolute value of a is  56.0\n",
      "9834496\n",
      "4.780892883885469e-25\n",
      "2.7268330278608417\n",
      "4.321928094887363\n",
      "2.0\n"
     ]
    }
   ],
   "source": [
    "#abs(x) , fabs(x) , exp(x) , pow(x) , log(x) Method\n",
    "import math\n",
    "a=-56\n",
    "\n",
    "b=abs(a)\n",
    "print('The absolute value of a is ',b)\n",
    "\n",
    "c=math.fabs(a)\n",
    "print('The absolute value of a is ',c)\n",
    "\n",
    "x=9\n",
    "print(pow(a,4))\n",
    "print(math.exp(a))\n",
    "print(math.log(20,3))\n",
    "print(math.log2(20))\n",
    "print(math.log10(100))"
   ]
  },
  {
   "cell_type": "code",
   "execution_count": 10,
   "id": "86f71081-f328-4ffb-978e-0da37f8be036",
   "metadata": {},
   "outputs": [
    {
     "name": "stdout",
     "output_type": "stream",
     "text": [
      "Sum is: 36\n",
      "Prouduct is: 67200\n"
     ]
    }
   ],
   "source": [
    "#Numbers part2\n",
    "#Sum and Product Function\n",
    "import math\n",
    "mylist=(2,3,2,5,7,5,8,4)\n",
    "\n",
    "x=sum(mylist)\n",
    "print ('Sum is:',x)\n",
    "\n",
    "y=math.prod(mylist)\n",
    "print('Prouduct is:',y)"
   ]
  },
  {
   "cell_type": "code",
   "execution_count": 14,
   "id": "cd196edc-bbcd-4812-a88b-787bc74a3077",
   "metadata": {},
   "outputs": [
    {
     "name": "stdout",
     "output_type": "stream",
     "text": [
      "Mean: 11\n",
      "Median: 11.0\n",
      "Mode: 2\n"
     ]
    }
   ],
   "source": [
    "#Mean,Median and Mode function\n",
    "import statistics\n",
    "a=[2,4,6,8,10,12,14,16,18,20]\n",
    "print('Mean:',statistics.mean(a))\n",
    "print('Median:',statistics.median(a))\n",
    "print('Mode:',statistics.mode(a))"
   ]
  },
  {
   "cell_type": "code",
   "execution_count": 16,
   "id": "889ab83f-f4ee-4636-b17d-847ea11066c3",
   "metadata": {},
   "outputs": [
    {
     "name": "stdin",
     "output_type": "stream",
     "text": [
      "Enter number 3\n"
     ]
    },
    {
     "name": "stdout",
     "output_type": "stream",
     "text": [
      "Square root of  3  is  1.7320508075688772\n"
     ]
    }
   ],
   "source": [
    "#Square Root Function\n",
    "import math\n",
    "a=int(input('Enter number'))\n",
    "b=math.sqrt(a)\n",
    "print('Square root of ',a ,' is ',b)"
   ]
  },
  {
   "cell_type": "code",
   "execution_count": 18,
   "id": "5b66348f-aead-40bb-a223-7b634beb91fa",
   "metadata": {},
   "outputs": [
    {
     "name": "stdout",
     "output_type": "stream",
     "text": [
      "9.0\n"
     ]
    }
   ],
   "source": [
    "#Distance Function\n",
    "import math\n",
    "x=[11]\n",
    "y=[20]\n",
    "print(math.dist(x,y))"
   ]
  },
  {
   "cell_type": "code",
   "execution_count": 44,
   "id": "ef5d7d24-fd92-4ab4-9f96-7a2e8a9ef15b",
   "metadata": {},
   "outputs": [
    {
     "name": "stdout",
     "output_type": "stream",
     "text": [
      "Random of random: 0.8268716790242738\n",
      "Random int: 9\n",
      "Random range: 13\n",
      "Random uniform: 8.828878080713949\n",
      "Random Choice: 12\n",
      "Random Choices: [35, 35, 35, 23, 14]\n",
      "Random simple: [65, 23, 45, 7, 14]\n",
      "Random number with seed 4 is: 0.23604808973743452\n",
      "\n",
      "Original List:\n",
      "[1, 2, 3, 4, 5, 6, 7]\n",
      "\n",
      "After first shuffle:\n",
      "[2, 3, 7, 5, 4, 6, 1]\n",
      "\n",
      "After second shuffle:\n",
      "[3, 4, 6, 7, 5, 1, 2]\n"
     ]
    }
   ],
   "source": [
    "#Numbers part3\n",
    "#Random Numbers\n",
    "# randint randrange random uniform sample choice choices shuffle seed\n",
    "import random\n",
    "print ('Random of random:',random.random())\n",
    "print ('Random int:',random.randint(1,20))\n",
    "print ('Random range:',random.randrange(1,50,2))\n",
    "print ('Random uniform:',random.uniform(6,9))\n",
    "\n",
    "seq=(12,23,14,56,7,65,45,35,88)\n",
    "print ('Random Choice:',random.choice(seq))\n",
    "print ('Random Choices:',random.choices(seq,k=5))\n",
    "print ('Random simple:',random.sample(seq,5))\n",
    "\n",
    "random.seed(4)\n",
    "print ('Random number with seed 4 is:',random.random())\n",
    "\n",
    "My_list=[1,2,3,4,5,6,7]\n",
    "print('\\nOriginal List:')\n",
    "print(My_list)\n",
    "\n",
    "random.shuffle(My_list)\n",
    "print('\\nAfter first shuffle:')\n",
    "print(My_list)\n",
    "\n",
    "random.shuffle(My_list)\n",
    "print('\\nAfter second shuffle:')\n",
    "print(My_list)"
   ]
  },
  {
   "cell_type": "code",
   "execution_count": 15,
   "id": "cead9343-116a-448f-812f-5468a90373a7",
   "metadata": {},
   "outputs": [
    {
     "name": "stdout",
     "output_type": "stream",
     "text": [
      "Sine: 0.8660254037844386\n",
      "Arc Sine: 0.0\n",
      "\n",
      "Cosine: 0.8660254037844387\n",
      "Arc Cosine: 0.0\n",
      "\n",
      "Tan: 1.7320508075688767\n",
      "Arc Tan: 0.7853981633974483\n",
      "\n",
      "Arc tan2: -0.7853981633974483\n",
      "\n",
      "90.0\n",
      "1.0471975511965976\n"
     ]
    }
   ],
   "source": [
    "#Number part 4\n",
    "#Trigonometric Function\n",
    "# math.cos() math.sin() math.tan()\n",
    "#math.acos() math.asin() math.atan() math.atan2()\n",
    "import math\n",
    "print('Sine:',math.sin(math.pi/3))\n",
    "print('Arc Sine:',math.asin(0))\n",
    "print( )\n",
    "\n",
    "print('Cosine:', math.cos(math.pi/6))\n",
    "print('Arc Cosine:', math.acos(1))\n",
    "print( )\n",
    "\n",
    "print('Tan:', math.tan(math.pi/3))\n",
    "print('Arc Tan:', math.atan(1))\n",
    "print( )\n",
    "\n",
    "print('Arc tan2:', math.atan2(-1,1))\n",
    "print( )\n",
    "\n",
    "#Degrees and Radians\n",
    "print(math.degrees((math.pi/2)))\n",
    "print(math.radians(60))"
   ]
  },
  {
   "cell_type": "code",
   "execution_count": null,
   "id": "ba01dda2-5316-4fde-a57f-549db872f884",
   "metadata": {},
   "outputs": [],
   "source": []
  },
  {
   "cell_type": "code",
   "execution_count": null,
   "id": "2710736e-7484-4a0f-9f6e-037d03f26cab",
   "metadata": {},
   "outputs": [],
   "source": []
  }
 ],
 "metadata": {
  "kernelspec": {
   "display_name": "Python [conda env:base] *",
   "language": "python",
   "name": "conda-base-py"
  },
  "language_info": {
   "codemirror_mode": {
    "name": "ipython",
    "version": 3
   },
   "file_extension": ".py",
   "mimetype": "text/x-python",
   "name": "python",
   "nbconvert_exporter": "python",
   "pygments_lexer": "ipython3",
   "version": "3.12.7"
  }
 },
 "nbformat": 4,
 "nbformat_minor": 5
}
